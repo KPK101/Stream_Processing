{
 "cells": [
  {
   "cell_type": "markdown",
   "id": "a5e048c0-9c95-42cb-b359-09e0110d3b8a",
   "metadata": {},
   "source": [
    "# Homework 1\n",
    "## Pranav Kumar Kota - PKK2125\n"
   ]
  },
  {
   "cell_type": "code",
   "execution_count": 1,
   "id": "553048e8-5c78-4fb5-a58a-aed040f5a320",
   "metadata": {},
   "outputs": [],
   "source": [
    "%load_ext autoreload\n",
    "%autoreload 2"
   ]
  },
  {
   "cell_type": "code",
   "execution_count": 2,
   "id": "14a78764-3589-42c1-88b4-b3ce44029904",
   "metadata": {},
   "outputs": [],
   "source": [
    "# load dependencies\n",
    "import numpy as np\n",
    "import pandas as pd\n",
    "import csv\n",
    "from IP_log_reader_app import IPlogreader"
   ]
  },
  {
   "cell_type": "code",
   "execution_count": 3,
   "id": "b0dfb7b0-31e0-444c-a331-79bbf905b839",
   "metadata": {},
   "outputs": [
    {
     "name": "stdout",
     "output_type": "stream",
     "text": [
      "Successfully loaded data!\n"
     ]
    }
   ],
   "source": [
    "# load data\n",
    "file = './epa-http.txt' # edit path to load custom data\n",
    "ipl = IPlogreader(file)"
   ]
  },
  {
   "cell_type": "code",
   "execution_count": 4,
   "id": "118abf46-8b87-4a79-b6e8-40b8f0cc29a7",
   "metadata": {},
   "outputs": [],
   "source": [
    "# function to save dict as a csv file\n",
    "def dict_to_csv(data, filename):\n",
    "    columns = list(data.keys())\n",
    "    rows = zip(*data.values())\n",
    "    with open(filename, 'w', newline='') as csvfile:\n",
    "        writer = csv.writer(csvfile)\n",
    "        writer.writerow(columns)  \n",
    "        writer.writerows(rows)    "
   ]
  },
  {
   "cell_type": "markdown",
   "id": "2eadf1a7-061f-4c3e-850a-6e642aff3274",
   "metadata": {},
   "source": [
    "## Part 1"
   ]
  },
  {
   "cell_type": "code",
   "execution_count": 5,
   "id": "7bc861dd-2acc-4682-9b04-83685a958b47",
   "metadata": {},
   "outputs": [],
   "source": [
    "unique_ip_data = ipl.compute_bytes_per_ip(ipl.data)\n",
    "dict_to_csv(unique_ip_data, './CSV_files/Part1-uniqueIP_and_Bytes.csv')"
   ]
  },
  {
   "cell_type": "markdown",
   "id": "a2bc3714-6b66-46be-8bef-06464ec354b3",
   "metadata": {},
   "source": [
    "## Part 2"
   ]
  },
  {
   "cell_type": "code",
   "execution_count": 6,
   "id": "971bfd77-b714-4108-b641-be23a4de4c60",
   "metadata": {},
   "outputs": [],
   "source": [
    "top_10_bytes_data = ipl.ip_topK_bytes(sortby='bytes',address='ip',K=10)\n",
    "top_100_bytes_data = ipl.ip_topK_bytes(sortby='bytes',address='ip',K=100)\n",
    "\n",
    "dict_to_csv(top_10_bytes_data, './CSV_files/Part2-top10Bytes.csv')\n",
    "dict_to_csv(top_100_bytes_data, './CSV_files/Part2-top100Bytes.csv')"
   ]
  },
  {
   "cell_type": "markdown",
   "id": "5179d768-e2a0-40b3-853d-ef823b9df6d3",
   "metadata": {},
   "source": [
    "## Part 3"
   ]
  },
  {
   "cell_type": "code",
   "execution_count": 7,
   "id": "3cdacbc8-3c82-41fc-ad0b-a977eafcaf78",
   "metadata": {},
   "outputs": [],
   "source": [
    "window_unique_ip_data = ipl.compute_bytes_per_ip_inHour(ipl.data)\n",
    "window_index = None\n",
    "for i,w in enumerate(window_unique_ip_data['window']):\n",
    "    if(w[0]=='30:0:00:00'):\n",
    "        window_index = i\n",
    "        break\n",
    "data_30 = {'ip':window_unique_ip_data['ip_list'][window_index], 'bytes':window_unique_ip_data['bytes_list'][window_index]}\n",
    "dict_to_csv(data_30, './CSV_files/Part3-window_statistics_30_0_00_00.csv')"
   ]
  },
  {
   "cell_type": "markdown",
   "id": "6cf72c8c-37ab-4ef3-bc5f-26f4e2d65d68",
   "metadata": {},
   "source": [
    "## Part 4"
   ]
  },
  {
   "cell_type": "markdown",
   "id": "de4ba99d-593c-4623-9728-fa7062d50e6c",
   "metadata": {},
   "source": [
    "### Unique subnets and ips"
   ]
  },
  {
   "cell_type": "code",
   "execution_count": 8,
   "id": "3b9159c4-c70f-4536-a3f9-190750d3da92",
   "metadata": {},
   "outputs": [],
   "source": [
    "unique_subnet_2_data = ipl.groupBySubnet(ipl.data,numbytes=2)\n",
    "unique_subnet_3_data = ipl.groupBySubnet(ipl.data,numbytes=3)\n",
    "\n",
    "dict_to_csv(unique_subnet_2_data, './CSV_files/Part4-uniqueSubnet2_and_Bytes.csv')\n",
    "dict_to_csv(unique_subnet_3_data, './CSV_files/Part4-uniqueSubnet3_and_Bytes.csv')"
   ]
  },
  {
   "cell_type": "markdown",
   "id": "dc9caada-aa31-4826-bbd1-d7a92a99c8d6",
   "metadata": {},
   "source": [
    "### Top 10 and 100 bytes per unique subnet"
   ]
  },
  {
   "cell_type": "code",
   "execution_count": 9,
   "id": "87555ff6-b427-48cf-b6b4-0c98be02f1b5",
   "metadata": {},
   "outputs": [],
   "source": [
    "subnet_top_10_bytes_data = ipl.ip_topK_bytes(data=unique_subnet_2_data,sortby='bytes',address='subnet',K=10)\n",
    "subnet_top_100_bytes_data = ipl.ip_topK_bytes(data=unique_subnet_2_data,sortby='bytes',address='subnet',K=100)\n",
    "\n",
    "dict_to_csv(subnet_top_10_bytes_data, './CSV_files/Part4-subnet_top10Bytes.csv')\n",
    "dict_to_csv(subnet_top_100_bytes_data, './CSV_files/Part4-subnet_top100Bytes.csv')"
   ]
  },
  {
   "cell_type": "markdown",
   "id": "ae66a38b-18fd-44c1-a7fb-1a61ad3e4436",
   "metadata": {},
   "source": [
    "### Total bytes served in time window"
   ]
  },
  {
   "cell_type": "code",
   "execution_count": 10,
   "id": "75cf2f67-dbe8-4826-a121-5bef9b98720e",
   "metadata": {},
   "outputs": [],
   "source": [
    "subnet2_window_unique_ip_data = ipl.compute_bytes_per_subnet_inHour(numbytes=2)\n",
    "subnet3_window_unique_ip_data = ipl.compute_bytes_per_subnet_inHour(numbytes=3)\n",
    "\n",
    "window_index_2 = None\n",
    "for i,w in enumerate(subnet2_window_unique_ip_data['window']):\n",
    "    if(w[0]=='30:0:00:00'):\n",
    "        window_index_2 = i\n",
    "        break\n",
    "        \n",
    "subnet2_data_30 = {'ip':subnet2_window_unique_ip_data['subnet_list'][window_index_2], 'bytes':subnet2_window_unique_ip_data['bytes_list'][window_index_2]}\n",
    "\n",
    "window_index_3 = None\n",
    "for i,w in enumerate(subnet3_window_unique_ip_data['window']):\n",
    "    if(w[0]=='30:0:00:00'):\n",
    "        window_index_3 = i\n",
    "        break\n",
    "        \n",
    "subnet3_data_30 = {'ip':subnet3_window_unique_ip_data['subnet_list'][window_index_3], 'bytes':subnet3_window_unique_ip_data['bytes_list'][window_index_3]}\n",
    "\n",
    "dict_to_csv(subnet2_data_30, './CSV_files/Part4-Subnet2_window_statistics_30_0_00_00.csv')\n",
    "dict_to_csv(subnet3_data_30, './CSV_files/Part4-Subnet3_window_statistics_30_0_00_00.csv')"
   ]
  }
 ],
 "metadata": {
  "kernelspec": {
   "display_name": "Python 3 (ipykernel)",
   "language": "python",
   "name": "python3"
  },
  "language_info": {
   "codemirror_mode": {
    "name": "ipython",
    "version": 3
   },
   "file_extension": ".py",
   "mimetype": "text/x-python",
   "name": "python",
   "nbconvert_exporter": "python",
   "pygments_lexer": "ipython3",
   "version": "3.10.5"
  }
 },
 "nbformat": 4,
 "nbformat_minor": 5
}
